{
 "cells": [
  {
   "cell_type": "code",
   "execution_count": 1,
   "metadata": {},
   "outputs": [
    {
     "ename": "SyntaxError",
     "evalue": "invalid syntax (<ipython-input-1-4f03fc5fea1e>, line 8)",
     "output_type": "error",
     "traceback": [
      "\u001b[0;36m  File \u001b[0;32m\"<ipython-input-1-4f03fc5fea1e>\"\u001b[0;36m, line \u001b[0;32m8\u001b[0m\n\u001b[0;31m    [0:12:4]\u001b[0m\n\u001b[0m      ^\u001b[0m\n\u001b[0;31mSyntaxError\u001b[0m\u001b[0;31m:\u001b[0m invalid syntax\n"
     ]
    }
   ],
   "source": [
    "import numpy as np\n",
    "from itertools import islice\n",
    "\n",
    "numbers = np.arange(12)\n",
    "list(islice(l10, 2))\n",
    "list(islice(l10, 2))\n",
    "list(islice(l10, 2))\n",
    "[0:12:4]"
   ]
  },
  {
   "cell_type": "code",
   "execution_count": 10,
   "metadata": {},
   "outputs": [
    {
     "name": "stdout",
     "output_type": "stream",
     "text": [
      "[[[1 2 3]\n",
      "  [1 2 2]\n",
      "  [1 1 3]\n",
      "  [1 1 2]\n",
      "  [0 2 3]\n",
      "  [0 2 2]\n",
      "  [0 1 3]\n",
      "  [0 1 2]]\n",
      "\n",
      " [[4 5 6]\n",
      "  [4 5 5]\n",
      "  [4 4 6]\n",
      "  [4 4 5]\n",
      "  [3 5 6]\n",
      "  [3 5 5]\n",
      "  [3 4 6]\n",
      "  [3 4 5]]]\n"
     ]
    },
    {
     "data": {
      "text/plain": [
       "array([[0, 0, 0],\n",
       "       [0, 0, 1],\n",
       "       [0, 0, 2],\n",
       "       [0, 1, 0],\n",
       "       [0, 1, 1],\n",
       "       [0, 1, 2],\n",
       "       [0, 2, 0],\n",
       "       [0, 2, 1],\n",
       "       [0, 2, 2],\n",
       "       [1, 0, 0],\n",
       "       [1, 0, 1],\n",
       "       [1, 0, 2],\n",
       "       [1, 1, 0],\n",
       "       [1, 1, 1],\n",
       "       [1, 1, 2],\n",
       "       [1, 2, 0],\n",
       "       [1, 2, 1],\n",
       "       [1, 2, 2],\n",
       "       [2, 0, 0],\n",
       "       [2, 0, 1],\n",
       "       [2, 0, 2],\n",
       "       [2, 1, 0],\n",
       "       [2, 1, 1],\n",
       "       [2, 1, 2],\n",
       "       [2, 2, 0],\n",
       "       [2, 2, 1],\n",
       "       [2, 2, 2]])"
      ]
     },
     "execution_count": 10,
     "metadata": {},
     "output_type": "execute_result"
    }
   ],
   "source": [
    "import numpy as np\n",
    "\n",
    "ind2 = np.mgrid[0:2, 0:2, 0:2].reshape(3, -1).T\n",
    "p3 = np.array([[1, 2, 3], [4, 5, 6]])\n",
    "print(p3[:, None] - ind2)\n",
    "np.mgrid[0:3, 0:3, 0:3].reshape(3, -1).T\n",
    "p3.T"
   ]
  },
  {
   "cell_type": "code",
   "execution_count": 1,
   "metadata": {},
   "outputs": [
    {
     "name": "stdout",
     "output_type": "stream",
     "text": [
      "[[[1 2 3]\n",
      "  [4 5 6]]\n",
      "\n",
      " [[1 2 2]\n",
      "  [4 5 5]]\n",
      "\n",
      " [[1 1 3]\n",
      "  [4 4 6]]\n",
      "\n",
      " [[1 1 2]\n",
      "  [4 4 5]]\n",
      "\n",
      " [[0 2 3]\n",
      "  [3 5 6]]\n",
      "\n",
      " [[0 2 2]\n",
      "  [3 5 5]]\n",
      "\n",
      " [[0 1 3]\n",
      "  [3 4 6]]\n",
      "\n",
      " [[0 1 2]\n",
      "  [3 4 5]]]\n"
     ]
    }
   ],
   "source": [
    "import numpy as np\n",
    "\n",
    "ind2 = np.mgrid[0:2, 0:2, 0:2].reshape(3, -1).T\n",
    "p3 = np.array([[1, 2, 3], [4, 5, 6]])\n",
    "print(p3 - ind2[:, None])"
   ]
  }
 ],
 "metadata": {
  "kernelspec": {
   "display_name": "Python 2",
   "language": "python",
   "name": "python2"
  },
  "language_info": {
   "codemirror_mode": {
    "name": "ipython",
    "version": 2
   },
   "file_extension": ".py",
   "mimetype": "text/x-python",
   "name": "python",
   "nbconvert_exporter": "python",
   "pygments_lexer": "ipython2",
   "version": "2.7.14"
  },
  "latex_envs": {
   "LaTeX_envs_menu_present": true,
   "autocomplete": true,
   "bibliofile": "biblio.bib",
   "cite_by": "apalike",
   "current_citInitial": 1,
   "eqLabelWithNumbers": true,
   "eqNumInitial": 1,
   "hotkeys": {
    "equation": "Ctrl-E",
    "itemize": "Ctrl-I"
   },
   "labels_anchors": false,
   "latex_user_defs": false,
   "report_style_numbering": false,
   "user_envs_cfg": false
  }
 },
 "nbformat": 4,
 "nbformat_minor": 2
}
