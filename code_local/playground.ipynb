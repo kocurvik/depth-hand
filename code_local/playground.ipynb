{
 "cells": [
  {
   "cell_type": "code",
   "execution_count": 1,
   "metadata": {},
   "outputs": [
    {
     "name": "stdout",
     "output_type": "stream",
     "text": [
      "[2.0041757, 2.0041757, 7215.0327]\n"
     ]
    }
   ],
   "source": [
    "import tensorflow as tf\n",
    "\n",
    "shape_obj = (5, 5)\n",
    "shape_obj = (100, 6, 12)\n",
    "Y1 = tf.random_normal(shape=shape_obj)\n",
    "Y2 = tf.random_normal(shape=shape_obj)\n",
    "\n",
    "loss1 = tf.reduce_sum(tf.pow(Y1 - Y2, 2)) / (reduce(lambda x, y: x*y, shape_obj))\n",
    "loss2 = tf.reduce_mean(tf.squared_difference(Y1, Y2))\n",
    "loss3 = tf.nn.l2_loss(Y1 - Y2)\n",
    "\n",
    "with tf.Session() as sess:\n",
    "    print sess.run([loss1, loss2, loss3])"
   ]
  },
  {
   "cell_type": "code",
   "execution_count": null,
   "metadata": {},
   "outputs": [],
   "source": [
    "import tensorflow as tf\n",
    "\n",
    "shape_obj = (5000, 5000, 10)\n",
    "Y1 = tf.zeros(shape=shape_obj)\n",
    "Y2 = tf.ones(shape=shape_obj)\n",
    "\n",
    "loss1 = tf.reduce_sum(tf.pow(Y1 - Y2, 2)) / (reduce(lambda x, y: x*y, shape_obj))\n",
    "loss2 = tf.reduce_mean(tf.squared_difference(Y1, Y2))\n",
    "loss3 = tf.nn.l2_loss(Y1 - Y2) * 2 / (reduce(lambda x, y: x*y, shape_obj))\n",
    "tfshape = tf.shape(Y2)\n",
    "loss4 = tf.nn.l2_loss(Y1 - Y2) * 2\n",
    "\n",
    "with tf.Session() as sess:\n",
    "    print sess.run([loss1, loss2, loss3])\n",
    "    print sess.run(tf.shape(Y2))\n",
    "    print sess.run(loss4)"
   ]
  }
 ],
 "metadata": {
  "kernelspec": {
   "display_name": "Python 3",
   "language": "python",
   "name": "python3"
  },
  "language_info": {
   "codemirror_mode": {
    "name": "ipython",
    "version": 3
   },
   "file_extension": ".py",
   "mimetype": "text/x-python",
   "name": "python",
   "nbconvert_exporter": "python",
   "pygments_lexer": "ipython3",
   "version": "3.6.7"
  },
  "latex_envs": {
   "LaTeX_envs_menu_present": true,
   "autocomplete": true,
   "bibliofile": "biblio.bib",
   "cite_by": "apalike",
   "current_citInitial": 1,
   "eqLabelWithNumbers": true,
   "eqNumInitial": 1,
   "hotkeys": {
    "equation": "Ctrl-E",
    "itemize": "Ctrl-I"
   },
   "labels_anchors": false,
   "latex_user_defs": false,
   "report_style_numbering": false,
   "user_envs_cfg": false
  }
 },
 "nbformat": 4,
 "nbformat_minor": 2
}
