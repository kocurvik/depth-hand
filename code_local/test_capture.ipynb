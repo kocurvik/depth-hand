{
 "cells": [
  {
   "cell_type": "code",
   "execution_count": 9,
   "metadata": {},
   "outputs": [
    {
     "name": "stdout",
     "output_type": "stream",
     "text": [
      "Depth Scale is:  0.00012498664727900177\n"
     ]
    },
    {
     "data": {
      "application/vnd.jupyter.widget-view+json": {
       "model_id": "b1e2869d3740422abb6fb19ef81a1ab1",
       "version_major": 2,
       "version_minor": 0
      },
      "text/plain": [
       "FigureCanvasNbAgg()"
      ]
     },
     "metadata": {},
     "output_type": "display_data"
    }
   ],
   "source": [
    "import numpy as np\n",
    "import matplotlib.pyplot as mpplot\n",
    "from matplotlib.animation import FuncAnimation\n",
    "import pyrealsense2 as pyrs\n",
    "\n",
    "\n",
    "# Create a pipeline\n",
    "pipeline = pyrs.pipeline()\n",
    "\n",
    "# Create a config and configure the stream\n",
    "config = pyrs.config()\n",
    "config.enable_stream(pyrs.stream.depth, 640, 480, pyrs.format.z16, 30)\n",
    "config.enable_stream(pyrs.stream.color, 640, 480, pyrs.format.rgb8, 30)\n",
    "#config.enable_stream(pyrs.stream.color, 640, 480, pyrs.format.bgr8, 30)\n",
    "\n",
    "# Start streaming\n",
    "profile = pipeline.start(config)\n",
    "\n",
    "# Getting the depth sensor's depth scale\n",
    "depth_sensor = profile.get_device().first_depth_sensor()\n",
    "depth_scale = depth_sensor.get_depth_scale()\n",
    "print(\"Depth Scale is: \", depth_scale)\n",
    "\n",
    "# clip the background\n",
    "clipping_distance_in_meters = 1 #1 meter\n",
    "clipping_distance = clipping_distance_in_meters / depth_scale\n",
    "\n",
    "# Create an align object\n",
    "align_to = pyrs.stream.color\n",
    "align = pyrs.align(align_to)\n",
    "\n",
    "# Create the figure canvas\n",
    "fig, _ = mpplot.subplots(nrows=1, ncols=2, figsize=(2 * 5, 1 * 5))\n",
    "ax1 = mpplot.subplot(1, 2, 1)\n",
    "ax1.set_axis_off()\n",
    "ax2 = mpplot.subplot(1, 2, 2)\n",
    "ax2.set_axis_off()\n",
    "mpplot.subplots_adjust(left=0, right=1, top=1, bottom=0)\n",
    "im1 = ax1.imshow(np.zeros([480, 640], dtype=np.uint16), vmin=0., vmax=1., cmap=mpplot.cm.bone_r)\n",
    "im2 = ax2.imshow(np.zeros([480, 640, 3], dtype=np.uint8))\n",
    "\n",
    "def update(i):\n",
    "    frames = pipeline.wait_for_frames()\n",
    "\n",
    "    # Get frameset of only depth\n",
    "    #depth = frames.get_depth_frame()\n",
    "    #if not depth:\n",
    "    #    continue\n",
    "    #depth_image = np.asanyarray(depth)\n",
    "\n",
    "    # Get aligned color and depth frameset\n",
    "    aligned_frames = align.process(frames)\n",
    "    aligned_depth_frame = aligned_frames.get_depth_frame()\n",
    "    color_frame = aligned_frames.get_color_frame()\n",
    "    if not aligned_depth_frame or not color_frame:\n",
    "        return\n",
    "    depth_image = np.asanyarray(aligned_depth_frame.get_data())\n",
    "    color_image = np.asanyarray(color_frame.get_data())\n",
    "    #color_image = np.asanyarray(color_frame.get_data())[..., ::-1]\n",
    "\n",
    "    # Remove background - Set to grey\n",
    "    grey_color = 159\n",
    "    depth_image_3d = np.dstack(\n",
    "            (depth_image, depth_image, depth_image))\n",
    "    bg_removed = np.where(\n",
    "            (depth_image_3d > clipping_distance) | (depth_image_3d <= 0),\n",
    "            grey_color, color_image)\n",
    "    np.clip(depth_image, 0, clipping_distance, out=depth_image )\n",
    "\n",
    "    # Rendering\n",
    "    im1.set_data(depth_image.astype(float) / clipping_distance)\n",
    "    im2.set_data(bg_removed)\n",
    "    #im2.set_data(color_image)\n",
    "    \n",
    "try:\n",
    "    ani = FuncAnimation(fig, update, blit=False, interval=1)\n",
    "    def close(event):\n",
    "        if event.key == 'q':\n",
    "            mpplot.close(event.canvas.figure)\n",
    "    cid = fig.canvas.mpl_connect(\"key_press_event\", close)\n",
    "    mpplot.show()\n",
    "finally:\n",
    "    mpplot.close(fig)\n",
    "    pipeline.stop()"
   ]
  }
 ],
 "metadata": {
  "kernelspec": {
   "display_name": "Python 3",
   "language": "python",
   "name": "python3"
  },
  "language_info": {
   "codemirror_mode": {
    "name": "ipython",
    "version": 3
   },
   "file_extension": ".py",
   "mimetype": "text/x-python",
   "name": "python",
   "nbconvert_exporter": "python",
   "pygments_lexer": "ipython3",
   "version": "3.6.6"
  }
 },
 "nbformat": 4,
 "nbformat_minor": 2
}
